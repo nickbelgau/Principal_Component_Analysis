{
 "cells": [
  {
   "cell_type": "markdown",
   "metadata": {},
   "source": [
    "# PCA with Image Dataset CIFAR-10"
   ]
  },
  {
   "cell_type": "markdown",
   "metadata": {},
   "source": [
    "Check that the GPU is being used"
   ]
  },
  {
   "cell_type": "code",
   "execution_count": 1,
   "metadata": {},
   "outputs": [
    {
     "name": "stdout",
     "output_type": "stream",
     "text": [
      "GPU is available\n",
      "GPU Name: NVIDIA GeForce RTX 4090\n",
      "Current Device: 0\n"
     ]
    }
   ],
   "source": [
    "import torch\n",
    "# Check if GPU is available\n",
    "if torch.cuda.is_available():\n",
    "    print(\"GPU is available\")\n",
    "    print(\"GPU Name:\", torch.cuda.get_device_name(0))\n",
    "    print(\"Current Device:\", torch.cuda.current_device())\n",
    "else:\n",
    "    print(\"GPU is not available\")"
   ]
  },
  {
   "cell_type": "markdown",
   "metadata": {},
   "source": [
    "### About"
   ]
  },
  {
   "cell_type": "markdown",
   "metadata": {},
   "source": [
    "Practical Implementation Scenarios:\n",
    "PCA is commonly referred to as a practical technique for image compression and dimentionality reduction for classification tasks. While PCA does provide an improvement for traditional machine learning models like SVM, modern models such as CNNs have allowed for practical application, replacing the need to use PCA. CNNs are smaller modules, especially models such as Tiny Yolo which are on the order of 10 MB, nearly 1% the size of SVM models. This allows for these models to be deployed across smart devices in edge-computing applications. THe reduction in model size also results in much faster predictions in production."
   ]
  },
  {
   "cell_type": "markdown",
   "metadata": {},
   "source": [
    "The CIFAR-10 dataset consists of 5000 32x32 colour images in 10 classes. The dataset is normalized and divided into training, validation, and test sets.  "
   ]
  },
  {
   "cell_type": "code",
   "execution_count": 34,
   "metadata": {},
   "outputs": [],
   "source": [
    "import torch\n",
    "\n",
    "import torch.optim as optim\n",
    "from torchvision import datasets, transforms\n",
    "from torch.utils.data import DataLoader, random_split"
   ]
  },
  {
   "cell_type": "markdown",
   "metadata": {},
   "source": [
    "### Load data"
   ]
  },
  {
   "cell_type": "code",
   "execution_count": 35,
   "metadata": {},
   "outputs": [
    {
     "name": "stdout",
     "output_type": "stream",
     "text": [
      "Files already downloaded and verified\n"
     ]
    }
   ],
   "source": [
    "# Define transformation: convert images to tensors only\n",
    "transform = transforms.ToTensor()\n",
    "\n",
    "# Load CIFAR-10 training dataset without normalization\n",
    "train_val_data = datasets.CIFAR10(root='./data', train=True, download=True, transform=transform)"
   ]
  },
  {
   "cell_type": "markdown",
   "metadata": {},
   "source": [
    "### Define transformation pipeline"
   ]
  },
  {
   "cell_type": "markdown",
   "metadata": {},
   "source": [
    "Consider applying data augmentation to increase the complexity of the learning algorithm\n",
    "- RandomHorizontalFlip(): This flips images horizontally with a 50% probability, which is effective for object recognition as the CIFAR-10 classes (e.g., animals, vehicles) are often symmetrical or orientation-invariant.  \n",
    "- RandomCrop(): Random cropping with padding (e.g., padding by 4 pixels) simulates slight variations in object positioning and helps the model generalize better to minor shifts.  \n",
    "- ColorJitter(): Randomly adjusts brightness, contrast, saturation, and hue, simulating different lighting conditions and color variations.  \n",
    "- Normalize(): Standardizes pixel values from mean and standard deviation, which improves convergence."
   ]
  },
  {
   "cell_type": "markdown",
   "metadata": {},
   "source": [
    "First, calculate the mean and stdev which is used for normalization."
   ]
  },
  {
   "cell_type": "code",
   "execution_count": 36,
   "metadata": {},
   "outputs": [
    {
     "name": "stdout",
     "output_type": "stream",
     "text": [
      "Calculated Mean: tensor([0.4914, 0.4822, 0.4465])\n",
      "Calculated Std: tensor([0.2023, 0.1994, 0.2010])\n"
     ]
    }
   ],
   "source": [
    "# Calculate mean and std\n",
    "def calculate_mean_std(dataset):\n",
    "    loader = DataLoader(dataset, batch_size=500, shuffle=False, num_workers=2)\n",
    "    mean = 0.0\n",
    "    std = 0.0\n",
    "    total_samples = 0\n",
    "    for images, _ in loader:\n",
    "        batch_samples = images.size(0)\n",
    "        images = images.view(batch_samples, images.size(1), -1)\n",
    "        mean += images.mean(2).sum(0)\n",
    "        std += images.std(2).sum(0)\n",
    "        total_samples += batch_samples\n",
    "    mean /= total_samples\n",
    "    std /= total_samples\n",
    "    return mean, std\n",
    "\n",
    "mean, std = calculate_mean_std(train_val_data)\n",
    "print(f\"Calculated Mean: {mean}\")\n",
    "print(f\"Calculated Std: {std}\")"
   ]
  },
  {
   "cell_type": "markdown",
   "metadata": {},
   "source": [
    "Can pass as tensor or convert to a list in ```transforms.Normalize()```"
   ]
  },
  {
   "cell_type": "code",
   "execution_count": 37,
   "metadata": {},
   "outputs": [],
   "source": [
    "# Define transformations: convert to tensor and normalize\n",
    "transform = transforms.Compose([\n",
    "    transforms.ToTensor(),\n",
    "    transforms.Normalize(mean, std)\n",
    "])"
   ]
  },
  {
   "cell_type": "markdown",
   "metadata": {},
   "source": [
    "Using ```transforms.Normalize``` is generally preferred in PyTorch as it integrates seamlessly with DataLoader and ensures consistency during training and evaluation."
   ]
  },
  {
   "cell_type": "markdown",
   "metadata": {},
   "source": [
    "Reload with normalization"
   ]
  },
  {
   "cell_type": "code",
   "execution_count": 38,
   "metadata": {},
   "outputs": [
    {
     "name": "stdout",
     "output_type": "stream",
     "text": [
      "Files already downloaded and verified\n"
     ]
    }
   ],
   "source": [
    "# Reload CIFAR-10 datasets with normalization\n",
    "train_val_data = datasets.CIFAR10(root='./data', train=True, download=False, transform=transform)\n",
    "test_data = datasets.CIFAR10(root='./data', train=False, download=True, transform=transform)"
   ]
  },
  {
   "cell_type": "markdown",
   "metadata": {},
   "source": [
    "Check normalization by pulling in 1 record"
   ]
  },
  {
   "cell_type": "markdown",
   "metadata": {},
   "source": [
    "### Split training data to create a validation set"
   ]
  },
  {
   "cell_type": "code",
   "execution_count": 39,
   "metadata": {},
   "outputs": [],
   "source": [
    "# Set a manual seed for reproducibility\n",
    "torch.manual_seed(42)\n",
    "\n",
    "# Split into training and validation (85% train, 15% validation)\n",
    "train_size = int(0.85 * len(train_val_data))\n",
    "val_size = len(train_val_data) - train_size\n",
    "train_data, val_data = random_split(train_val_data, [train_size, val_size])"
   ]
  },
  {
   "cell_type": "markdown",
   "metadata": {},
   "source": [
    "### Create data loaders"
   ]
  },
  {
   "cell_type": "markdown",
   "metadata": {},
   "source": [
    "Large batch sizes can sometimes lead to decreased accuracy because smaller batches add more noise to the gradient estimates, which can help in escaping local minima."
   ]
  },
  {
   "cell_type": "code",
   "execution_count": 40,
   "metadata": {},
   "outputs": [],
   "source": [
    "# Optimized DataLoaders\n",
    "batch_size = 256  # Increase batch size based on GPU memory; RTX 4090 can handle large batches\n",
    "num_workers = 12   # Utilize multiple CPU cores for faster data loading\n",
    "pin_memory = True if torch.cuda.is_available() else False  # Speeds up data transfer to GPU\n",
    "\n",
    "train_loader = DataLoader(\n",
    "    train_data,\n",
    "    batch_size=batch_size,\n",
    "    shuffle=True,\n",
    "    num_workers=num_workers,\n",
    "    pin_memory=pin_memory,\n",
    "    persistent_workers=True  # Keeps workers alive between epochs for faster data loading\n",
    ")\n",
    "\n",
    "val_loader = DataLoader(\n",
    "    val_data,\n",
    "    batch_size=batch_size,\n",
    "    shuffle=False,\n",
    "    num_workers=num_workers,\n",
    "    pin_memory=pin_memory,\n",
    "    persistent_workers=True\n",
    ")\n",
    "\n",
    "test_loader = DataLoader(\n",
    "    test_data,\n",
    "    batch_size=batch_size,\n",
    "    shuffle=False,\n",
    "    num_workers=num_workers,\n",
    "    pin_memory=pin_memory,\n",
    "    persistent_workers=True\n",
    ")"
   ]
  },
  {
   "cell_type": "markdown",
   "metadata": {},
   "source": [
    "Explanation of Parameters:  \n",
    "\n",
    "batch_size=256: Higher batch sizes can improve GPU utilization. RTX 4090 can handle large batches due to its high memory capacity.  \n",
    "num_workers=8: Utilize all available CPU cores (your 7800X3D has 16 cores, so 8 workers should be efficient).  \n",
    "pin_memory=True: Speeds up data transfer to GPU.  "
   ]
  },
  {
   "cell_type": "markdown",
   "metadata": {},
   "source": [
    "### Convolutional Neural Network (CNN)"
   ]
  },
  {
   "cell_type": "markdown",
   "metadata": {},
   "source": [
    "Define the CNN:  \n",
    "- (3) convolutional layers, each followed by batch normalization, max pooling, and dropout layers"
   ]
  },
  {
   "cell_type": "code",
   "execution_count": 41,
   "metadata": {},
   "outputs": [],
   "source": [
    "import torch.nn as nn\n",
    "\n",
    "class CNNModel(nn.Module):\n",
    "    def __init__(self):\n",
    "        super(CNNModel, self).__init__() # call parent class constructor\n",
    "        self.conv1 = nn.Conv2d(3, 32, kernel_size=3, padding=1)  # 3 channel RGB size 32x32 # padding=1 to maintain spatial dimensions\n",
    "        self.bn1 = nn.BatchNorm2d(32)\n",
    "        self.pool1 = nn.MaxPool2d(kernel_size=2, stride=2)       # reduce spatial dims by downsampling # Output: 32 x 16 x 16\n",
    "        self.dropout1 = nn.Dropout(0.25) # randomly set some outputs to 0 to prevent overfitting\n",
    "        \n",
    "        self.conv2 = nn.Conv2d(32, 64, kernel_size=3, padding=1) # Padding=1 to maintain spatial dimensions\n",
    "        self.bn2 = nn.BatchNorm2d(64)\n",
    "        self.pool2 = nn.MaxPool2d(kernel_size=2, stride=2)       # Output: 64 channel x 8 x 8\n",
    "        self.dropout2 = nn.Dropout(0.25)\n",
    "        \n",
    "        self.conv3 = nn.Conv2d(64, 128, kernel_size=3, padding=1) # Padding=1 to maintain spatial dimensions\n",
    "        self.bn3 = nn.BatchNorm2d(128)\n",
    "        self.pool3 = nn.MaxPool2d(kernel_size=2, stride=2)       # Output: 128 x 4 x 4\n",
    "        self.dropout3 = nn.Dropout(0.25)\n",
    "        \n",
    "        self.flatten = nn.Flatten() # converts multi-dim output of convolutional layers to a 1D vector\n",
    "        self.fc1 = nn.Linear(128 * 4 * 4, 256) # matches the output size\n",
    "        self.bn4 = nn.BatchNorm1d(256)\n",
    "        self.dropout4 = nn.Dropout(0.50)\n",
    "        self.fc2 = nn.Linear(256, 10) # output layer with 10 classes for CIFAR-10\n",
    "    \n",
    "    def forward(self, x):\n",
    "        '''\n",
    "        Define the data flow through the layers.\n",
    "        '''\n",
    "        x = torch.relu(self.bn1(self.conv1(x)))\n",
    "        x = self.pool1(x)\n",
    "        x = self.dropout1(x)\n",
    "        \n",
    "        x = torch.relu(self.bn2(self.conv2(x)))\n",
    "        x = self.pool2(x)\n",
    "        x = self.dropout2(x)\n",
    "        \n",
    "        x = torch.relu(self.bn3(self.conv3(x)))\n",
    "        x = self.pool3(x)\n",
    "        x = self.dropout3(x)\n",
    "        \n",
    "        x = self.flatten(x)\n",
    "        x = torch.relu(self.bn4(self.fc1(x)))\n",
    "        x = self.dropout4(x)\n",
    "        \n",
    "        x = self.fc2(x)  # No softmax here; handled by CrossEntropyLoss since softmax is applied internally to it\n",
    "        return x\n",
    "\n",
    "# Initialize the model\n",
    "model_cnn = CNNModel()\n",
    "# print(model_cnn)\n"
   ]
  },
  {
   "cell_type": "markdown",
   "metadata": {},
   "source": [
    "### Move to GPU  \n",
    "\n",
    "Set the device used by Torch to GPU if ```cuda``` is available, otherwise use CPU.  \n",
    "Expected value: \"cuda\"\n"
   ]
  },
  {
   "cell_type": "code",
   "execution_count": 42,
   "metadata": {},
   "outputs": [
    {
     "name": "stdout",
     "output_type": "stream",
     "text": [
      "Using device: cuda\n"
     ]
    }
   ],
   "source": [
    "# Check if GPU is available and move model to GPU if possible\n",
    "device = torch.device(\"cuda\" if torch.cuda.is_available() else \"cpu\")\n",
    "print(f\"Using device: {device}\")\n",
    "model_cnn = model_cnn.to(device)"
   ]
  },
  {
   "cell_type": "markdown",
   "metadata": {},
   "source": [
    "Confirm the device used by the model by checking the first parameter.  \n",
    "Expected value: \"cuda:0\""
   ]
  },
  {
   "cell_type": "code",
   "execution_count": 43,
   "metadata": {},
   "outputs": [
    {
     "name": "stdout",
     "output_type": "stream",
     "text": [
      "Model is on device: cuda:0\n"
     ]
    }
   ],
   "source": [
    "# Check the device of the model's parameters\n",
    "model_device = next(model_cnn.parameters()).device # next() is used for accessing first element of an iterator\n",
    "print(f\"Model is on device: {model_device}\")"
   ]
  },
  {
   "cell_type": "markdown",
   "metadata": {},
   "source": [
    "### Define loss function and optimizer"
   ]
  },
  {
   "cell_type": "code",
   "execution_count": 44,
   "metadata": {},
   "outputs": [],
   "source": [
    "import torch.nn as nn\n",
    "import torch.optim as optim\n",
    "\n",
    "criterion = nn.CrossEntropyLoss()\n",
    "optimizer = optim.Adam(model_cnn.parameters(), lr=2e-3)"
   ]
  },
  {
   "cell_type": "markdown",
   "metadata": {},
   "source": [
    "Adam = Adaptive Moment Estimation is the standard for deep learning optimizer to update weights and biases.  \n",
    "\n",
    "During each iteration of training:  \n",
    "- Compute Gradients: Backpropagation calculates the gradients of the loss with respect to each parameter in model_cnn.\n",
    "- Update Parameters: The optimizer uses these gradients, along with the internal settings of Adam, to adjust the model's parameters.\n",
    "- Continue Until Convergence: repeat process until the model reaches an acceptable performance or finishes the specified training epochs."
   ]
  },
  {
   "cell_type": "markdown",
   "metadata": {},
   "source": [
    "### Training and validation loops"
   ]
  },
  {
   "cell_type": "code",
   "execution_count": 45,
   "metadata": {},
   "outputs": [],
   "source": [
    "history_cnn = {\n",
    "    'train_loss': [],\n",
    "    'val_loss': [],\n",
    "    'train_accuracy': [],\n",
    "    'val_accuracy': []\n",
    "}"
   ]
  },
  {
   "cell_type": "code",
   "execution_count": 46,
   "metadata": {},
   "outputs": [
    {
     "name": "stderr",
     "output_type": "stream",
     "text": [
      "c:\\Users\\Nick\\OneDrive\\Documents\\Projects\\Principal Component Analysis\\Principal Component Analysis\\.venv\\lib\\site-packages\\torch\\optim\\lr_scheduler.py:62: UserWarning: The verbose parameter is deprecated. Please use get_last_lr() to access the learning rate.\n",
      "  warnings.warn(\n"
     ]
    },
    {
     "name": "stdout",
     "output_type": "stream",
     "text": [
      "\n",
      "Epoch [1/50]\n",
      "Epoch [1/50] completed in 61.61 seconds\n",
      "Train Acc: 0.4965, Val Acc: 0.5461\n",
      "Best model saved!\n",
      "\n",
      "Epoch [2/50]\n",
      "Epoch [2/50] completed in 0.86 seconds\n",
      "Train Acc: 0.6063, Val Acc: 0.6485\n",
      "Best model saved!\n",
      "\n",
      "Epoch [3/50]\n",
      "Epoch [3/50] completed in 0.87 seconds\n",
      "Train Acc: 0.6397, Val Acc: 0.6225\n",
      "No improvement for 1 epochs.\n",
      "\n",
      "Epoch [4/50]\n",
      "Epoch [4/50] completed in 0.87 seconds\n",
      "Train Acc: 0.6591, Val Acc: 0.7004\n",
      "Best model saved!\n",
      "\n",
      "Epoch [5/50]\n",
      "Epoch [5/50] completed in 0.88 seconds\n",
      "Train Acc: 0.6879, Val Acc: 0.7152\n",
      "Best model saved!\n",
      "\n",
      "Epoch [6/50]\n",
      "Epoch [6/50] completed in 0.88 seconds\n",
      "Train Acc: 0.7007, Val Acc: 0.7085\n",
      "No improvement for 1 epochs.\n",
      "\n",
      "Epoch [7/50]\n",
      "Epoch [7/50] completed in 0.85 seconds\n",
      "Train Acc: 0.7158, Val Acc: 0.6795\n",
      "No improvement for 2 epochs.\n",
      "\n",
      "Epoch [8/50]\n",
      "Epoch [8/50] completed in 0.83 seconds\n",
      "Train Acc: 0.7206, Val Acc: 0.7367\n",
      "Best model saved!\n",
      "\n",
      "Epoch [9/50]\n",
      "Epoch [9/50] completed in 0.87 seconds\n",
      "Train Acc: 0.7310, Val Acc: 0.7415\n",
      "Best model saved!\n",
      "\n",
      "Epoch [10/50]\n",
      "Epoch [10/50] completed in 0.88 seconds\n",
      "Train Acc: 0.7412, Val Acc: 0.7531\n",
      "Best model saved!\n",
      "\n",
      "Epoch [11/50]\n",
      "Epoch [11/50] completed in 0.85 seconds\n",
      "Train Acc: 0.7513, Val Acc: 0.7583\n",
      "Best model saved!\n",
      "\n",
      "Epoch [12/50]\n",
      "Epoch [12/50] completed in 0.84 seconds\n",
      "Train Acc: 0.7605, Val Acc: 0.7520\n",
      "No improvement for 1 epochs.\n",
      "\n",
      "Epoch [13/50]\n",
      "Epoch [13/50] completed in 0.85 seconds\n",
      "Train Acc: 0.7679, Val Acc: 0.7717\n",
      "Best model saved!\n",
      "\n",
      "Epoch [14/50]\n",
      "Epoch [14/50] completed in 0.85 seconds\n",
      "Train Acc: 0.7727, Val Acc: 0.7832\n",
      "Best model saved!\n",
      "\n",
      "Epoch [15/50]\n",
      "Epoch [15/50] completed in 0.87 seconds\n",
      "Train Acc: 0.7772, Val Acc: 0.7777\n",
      "No improvement for 1 epochs.\n",
      "\n",
      "Epoch [16/50]\n",
      "Epoch [16/50] completed in 0.85 seconds\n",
      "Train Acc: 0.7610, Val Acc: 0.7797\n",
      "No improvement for 2 epochs.\n",
      "\n",
      "Epoch [17/50]\n",
      "Epoch [17/50] completed in 0.88 seconds\n",
      "Train Acc: 0.7774, Val Acc: 0.7820\n",
      "No improvement for 3 epochs.\n",
      "\n",
      "Epoch [18/50]\n",
      "Epoch [18/50] completed in 0.85 seconds\n",
      "Train Acc: 0.8011, Val Acc: 0.7808\n",
      "No improvement for 4 epochs.\n",
      "\n",
      "Epoch [19/50]\n",
      "Epoch [19/50] completed in 0.85 seconds\n",
      "Train Acc: 0.8015, Val Acc: 0.7937\n",
      "Best model saved!\n",
      "\n",
      "Epoch [20/50]\n",
      "Epoch [20/50] completed in 0.86 seconds\n",
      "Train Acc: 0.8020, Val Acc: 0.8000\n",
      "Best model saved!\n",
      "\n",
      "Epoch [21/50]\n",
      "Epoch [21/50] completed in 0.87 seconds\n",
      "Train Acc: 0.8108, Val Acc: 0.8095\n",
      "Best model saved!\n",
      "\n",
      "Epoch [22/50]\n",
      "Epoch [22/50] completed in 0.87 seconds\n",
      "Train Acc: 0.8160, Val Acc: 0.8032\n",
      "No improvement for 1 epochs.\n",
      "\n",
      "Epoch [23/50]\n",
      "Epoch [23/50] completed in 0.87 seconds\n",
      "Train Acc: 0.8124, Val Acc: 0.8089\n",
      "No improvement for 2 epochs.\n",
      "\n",
      "Epoch [24/50]\n",
      "Epoch [24/50] completed in 0.84 seconds\n",
      "Train Acc: 0.8215, Val Acc: 0.8013\n",
      "No improvement for 3 epochs.\n",
      "\n",
      "Epoch [25/50]\n",
      "Epoch [25/50] completed in 0.84 seconds\n",
      "Train Acc: 0.8274, Val Acc: 0.8104\n",
      "Best model saved!\n",
      "\n",
      "Epoch [26/50]\n",
      "Epoch [26/50] completed in 0.85 seconds\n",
      "Train Acc: 0.8274, Val Acc: 0.8103\n",
      "No improvement for 1 epochs.\n",
      "\n",
      "Epoch [27/50]\n",
      "Epoch [27/50] completed in 0.84 seconds\n",
      "Train Acc: 0.8289, Val Acc: 0.8124\n",
      "Best model saved!\n",
      "\n",
      "Epoch [28/50]\n",
      "Epoch [28/50] completed in 0.84 seconds\n",
      "Train Acc: 0.8310, Val Acc: 0.8081\n",
      "No improvement for 1 epochs.\n",
      "\n",
      "Epoch [29/50]\n",
      "Epoch [29/50] completed in 0.88 seconds\n",
      "Train Acc: 0.8238, Val Acc: 0.8072\n",
      "No improvement for 2 epochs.\n",
      "\n",
      "Epoch [30/50]\n",
      "Epoch [30/50] completed in 0.88 seconds\n",
      "Train Acc: 0.8320, Val Acc: 0.8159\n",
      "Best model saved!\n",
      "\n",
      "Epoch [31/50]\n",
      "Epoch [31/50] completed in 0.84 seconds\n",
      "Train Acc: 0.8354, Val Acc: 0.8161\n",
      "Best model saved!\n",
      "\n",
      "Epoch [32/50]\n",
      "Epoch [32/50] completed in 0.86 seconds\n",
      "Train Acc: 0.8364, Val Acc: 0.8135\n",
      "No improvement for 1 epochs.\n",
      "\n",
      "Epoch [33/50]\n",
      "Epoch [33/50] completed in 0.88 seconds\n",
      "Train Acc: 0.8365, Val Acc: 0.8081\n",
      "No improvement for 2 epochs.\n",
      "\n",
      "Epoch [34/50]\n",
      "Epoch [34/50] completed in 0.90 seconds\n",
      "Train Acc: 0.8384, Val Acc: 0.8223\n",
      "Best model saved!\n",
      "\n",
      "Epoch [35/50]\n",
      "Epoch [35/50] completed in 0.89 seconds\n",
      "Train Acc: 0.8445, Val Acc: 0.8195\n",
      "No improvement for 1 epochs.\n",
      "\n",
      "Epoch [36/50]\n",
      "Epoch [36/50] completed in 0.86 seconds\n",
      "Train Acc: 0.8443, Val Acc: 0.8155\n",
      "No improvement for 2 epochs.\n",
      "\n",
      "Epoch [37/50]\n",
      "Epoch [37/50] completed in 0.90 seconds\n",
      "Train Acc: 0.8425, Val Acc: 0.8127\n",
      "No improvement for 3 epochs.\n",
      "\n",
      "Epoch [38/50]\n",
      "Epoch [38/50] completed in 0.86 seconds\n",
      "Train Acc: 0.8448, Val Acc: 0.8128\n",
      "No improvement for 4 epochs.\n",
      "\n",
      "Epoch [39/50]\n",
      "Epoch [39/50] completed in 0.84 seconds\n",
      "Train Acc: 0.8491, Val Acc: 0.8156\n",
      "No improvement for 5 epochs.\n",
      "Early stopping triggered.\n"
     ]
    }
   ],
   "source": [
    "import time\n",
    "\n",
    "# Enables optimization of convolutional algorithm, enabled by cuDNN\n",
    "# could use direct, FFT-based, or Winograd\n",
    "torch.backends.cudnn.benchmark = True\n",
    "\n",
    "# Define training parameters\n",
    "num_epochs = 50\n",
    "\n",
    "# Early Stopping Parameters\n",
    "best_val_accuracy = 0.0\n",
    "patience = 5\n",
    "trigger_times = 0\n",
    "\n",
    "# Initialize the scheduler which will help adjust learning rate and avoid overshooting the optimal params\n",
    "scheduler = torch.optim.lr_scheduler.ReduceLROnPlateau(optimizer, mode='min', patience=2, factor=0.5, verbose=True)\n",
    "\n",
    "for epoch in range(num_epochs):\n",
    "    # Training phase\n",
    "    model_cnn.train()\n",
    "    running_loss, correct = 0.0, 0\n",
    "    epoch_start_time = time.time()\n",
    "    \n",
    "    for batch_idx, (X_batch, y_batch) in enumerate(train_loader):\n",
    "        # Move data to GPU\n",
    "        X_batch = X_batch.to(device, non_blocking=True).float()\n",
    "        y_batch = y_batch.to(device, non_blocking=True)\n",
    "        \n",
    "        # Diagnostic print for the first batch of each epoch\n",
    "        if batch_idx == 0:\n",
    "            print(f\"\\nEpoch [{epoch+1}/{num_epochs}]\")\n",
    "            # Assertions to ensure data is on GPU and in float32\n",
    "            assert X_batch.device.type == 'cuda', \"X_batch is not on GPU\" # if false, raise Assertion Error\n",
    "            assert y_batch.device.type == 'cuda', \"y_batch is not on GPU\"\n",
    "            assert X_batch.dtype == torch.float32, \"X_batch is not float32\"\n",
    "            assert y_batch.dtype in [torch.long, torch.int], \"y_batch should be integer type\"\n",
    "        \n",
    "        # Zero the gradients\n",
    "        optimizer.zero_grad()\n",
    "        \n",
    "        # Forward pass\n",
    "        outputs = model_cnn(X_batch)\n",
    "        loss = criterion(outputs, y_batch)\n",
    "        \n",
    "        # Backward pass and optimization\n",
    "        loss.backward()\n",
    "        optimizer.step()\n",
    "        \n",
    "        # Accumulate loss and correct predictions\n",
    "        running_loss += loss.item() * X_batch.size(0)\n",
    "        correct += (outputs.argmax(1) == y_batch).sum().item()\n",
    "    \n",
    "    # Calculate epoch training loss and accuracy\n",
    "    epoch_train_loss = running_loss / len(train_loader.dataset)\n",
    "    epoch_train_accuracy = correct / len(train_loader.dataset)\n",
    "    history_cnn['train_loss'].append(epoch_train_loss)\n",
    "    history_cnn['train_accuracy'].append(epoch_train_accuracy)\n",
    "\n",
    "    # Validation phase\n",
    "    model_cnn.eval()\n",
    "    val_loss, val_correct = 0.0, 0\n",
    "    with torch.no_grad():\n",
    "        for X_batch, y_batch in val_loader:\n",
    "            # Move data to GPU\n",
    "            X_batch = X_batch.to(device, non_blocking=True).float()\n",
    "            y_batch = y_batch.to(device, non_blocking=True)\n",
    "            \n",
    "            # Forward pass\n",
    "            outputs = model_cnn(X_batch)\n",
    "            loss = criterion(outputs, y_batch)\n",
    "            \n",
    "            # Accumulate loss and correct predictions\n",
    "            val_loss += loss.item() * X_batch.size(0)\n",
    "            val_correct += (outputs.argmax(1) == y_batch).sum().item()\n",
    "    \n",
    "    # Calculate epoch validation loss and accuracy\n",
    "    epoch_val_loss = val_loss / len(val_loader.dataset)\n",
    "    epoch_val_accuracy = val_correct / len(val_loader.dataset)\n",
    "    history_cnn['val_loss'].append(epoch_val_loss)\n",
    "    history_cnn['val_accuracy'].append(epoch_val_accuracy)\n",
    "    \n",
    "    # After each epoch, adjust learning rate based on validation loss\n",
    "    scheduler.step(epoch_val_loss)  # Call step() with validation loss\n",
    "\n",
    "    # Calculate total epoch duration\n",
    "    epoch_end_time = time.time()\n",
    "    epoch_duration = epoch_end_time - epoch_start_time\n",
    "\n",
    "\n",
    "    # Print epoch summary\n",
    "    print(f\"Epoch [{epoch+1}/{num_epochs}] completed in {epoch_duration:.2f} seconds\")\n",
    "    print(f\"Train Acc: {epoch_train_accuracy:.4f}, Val Acc: {epoch_val_accuracy:.4f}\")\n",
    "    \n",
    "    # Early Stopping and Model Checkpointing\n",
    "    if epoch_val_accuracy > best_val_accuracy:\n",
    "        best_val_accuracy = epoch_val_accuracy\n",
    "        torch.save(model_cnn.state_dict(), '../model/cnn2.pth')\n",
    "        print(\"Best model saved!\")\n",
    "        trigger_times = 0\n",
    "    else:\n",
    "        trigger_times += 1\n",
    "        print(f\"No improvement for {trigger_times} epochs.\")\n",
    "        if trigger_times >= patience:\n",
    "            print(\"Early stopping triggered.\")\n",
    "            break\n"
   ]
  },
  {
   "cell_type": "markdown",
   "metadata": {},
   "source": [
    "Investigate overfitting"
   ]
  },
  {
   "cell_type": "code",
   "execution_count": 47,
   "metadata": {},
   "outputs": [
    {
     "data": {
      "image/png": "[encoded data removed]",
      "text/plain": [
       "<Figure size 1200x500 with 2 Axes>"
      ]
     },
     "metadata": {},
     "output_type": "display_data"
    }
   ],
   "source": [
    "import matplotlib.pyplot as plt\n",
    "from matplotlib.ticker import MaxNLocator\n",
    "\n",
    "def plot_losses(history):\n",
    "    '''\n",
    "    Function to plot training and validation loss and accuracy.\n",
    "    Accepts a dictionary containing lists of loss and accuracy values.\n",
    "    '''\n",
    "    fig, axs = plt.subplots(1, 2, figsize=(12, 5))\n",
    "\n",
    "    # Plotting training and validation loss\n",
    "    axs[0].plot(history['train_loss'], label='Training Loss')\n",
    "    axs[0].plot(history['val_loss'], label='Validation Loss')\n",
    "    axs[0].set_title('Training and Validation Loss')\n",
    "    axs[0].set_xlabel('Epoch')\n",
    "    axs[0].set_ylabel('Loss')\n",
    "    axs[0].legend()\n",
    "    axs[0].xaxis.set_major_locator(MaxNLocator(integer=True))\n",
    "\n",
    "    # Plotting training and validation accuracy\n",
    "    axs[1].plot(history['train_accuracy'], label='Training Accuracy')\n",
    "    axs[1].plot(history['val_accuracy'], label='Validation Accuracy')\n",
    "    axs[1].set_title('Training and Validation Accuracy')\n",
    "    axs[1].set_xlabel('Epoch')\n",
    "    axs[1].set_ylabel('Accuracy')\n",
    "    axs[1].legend()\n",
    "    axs[1].xaxis.set_major_locator(MaxNLocator(integer=True))\n",
    "\n",
    "    plt.tight_layout()\n",
    "    plt.show()\n",
    "    return fig  # Return the figure object for saving or further manipulation\n",
    "\n",
    "# Plot using the modified function\n",
    "fig = plot_losses(history_cnn)\n",
    "\n",
    "# fig.savefig('training_metrics.png')"
   ]
  },
  {
   "cell_type": "markdown",
   "metadata": {},
   "source": [
    "### Load best model"
   ]
  },
  {
   "cell_type": "markdown",
   "metadata": {},
   "source": [
    "Best model was automatically saved."
   ]
  },
  {
   "cell_type": "markdown",
   "metadata": {},
   "source": [
    "In PyTorch, the process of saving a model is slightly different because you have to choose between saving only the model's weights (recommended for flexibility) or saving the entire model (weights + architecture)."
   ]
  },
  {
   "cell_type": "code",
   "execution_count": 49,
   "metadata": {},
   "outputs": [
    {
     "data": {
      "text/plain": [
       "CNNModel(\n",
       "  (conv1): Conv2d(3, 32, kernel_size=(3, 3), stride=(1, 1), padding=(1, 1))\n",
       "  (bn1): BatchNorm2d(32, eps=1e-05, momentum=0.1, affine=True, track_running_stats=True)\n",
       "  (pool1): MaxPool2d(kernel_size=2, stride=2, padding=0, dilation=1, ceil_mode=False)\n",
       "  (dropout1): Dropout(p=0.25, inplace=False)\n",
       "  (conv2): Conv2d(32, 64, kernel_size=(3, 3), stride=(1, 1), padding=(1, 1))\n",
       "  (bn2): BatchNorm2d(64, eps=1e-05, momentum=0.1, affine=True, track_running_stats=True)\n",
       "  (pool2): MaxPool2d(kernel_size=2, stride=2, padding=0, dilation=1, ceil_mode=False)\n",
       "  (dropout2): Dropout(p=0.25, inplace=False)\n",
       "  (conv3): Conv2d(64, 128, kernel_size=(3, 3), stride=(1, 1), padding=(1, 1))\n",
       "  (bn3): BatchNorm2d(128, eps=1e-05, momentum=0.1, affine=True, track_running_stats=True)\n",
       "  (pool3): MaxPool2d(kernel_size=2, stride=2, padding=0, dilation=1, ceil_mode=False)\n",
       "  (dropout3): Dropout(p=0.25, inplace=False)\n",
       "  (flatten): Flatten(start_dim=1, end_dim=-1)\n",
       "  (fc1): Linear(in_features=2048, out_features=256, bias=True)\n",
       "  (bn4): BatchNorm1d(256, eps=1e-05, momentum=0.1, affine=True, track_running_stats=True)\n",
       "  (dropout4): Dropout(p=0.5, inplace=False)\n",
       "  (fc2): Linear(in_features=256, out_features=10, bias=True)\n",
       ")"
      ]
     },
     "execution_count": 49,
     "metadata": {},
     "output_type": "execute_result"
    }
   ],
   "source": [
    "# Initialize the model with same architecture\n",
    "model_cnn = CNNModel()\n",
    "\n",
    "# Load the saved weights into the model\n",
    "model_cnn.load_state_dict(torch.load(\"../model/cnn2.pth\", weights_only=True))\n",
    "model_cnn.eval()  # Set to evaluation mode"
   ]
  },
  {
   "cell_type": "markdown",
   "metadata": {},
   "source": [
    "### Evaluate accuracy & prediction time"
   ]
  },
  {
   "cell_type": "code",
   "execution_count": 50,
   "metadata": {},
   "outputs": [
    {
     "name": "stdout",
     "output_type": "stream",
     "text": [
      "Accuracy: 0.8174\n",
      "Precision: 0.8197\n",
      "Recall: 0.8174\n",
      "F1-Score: 0.8167\n",
      "Confusion Matrix:\n",
      "[[826  10  28  12  30   4   7   6  54  23]\n",
      " [  6 878   3   5   4   2   6   2  27  67]\n",
      " [ 47   2 699  25 106  44  50  17   8   2]\n",
      " [ 11   1  51 621  81 136  54  20  12  13]\n",
      " [ 10   1  32  27 866  15  23  21   4   1]\n",
      " [  9   0  23 121  57 743  16  27   3   1]\n",
      " [  2   1  26  31  36  15 882   2   3   2]\n",
      " [  7   1  24  25  60  37   5 836   2   3]\n",
      " [ 24   6   8   6   7   3   5   1 927  13]\n",
      " [ 18  33   5  12   3   2   3   6  22 896]]\n"
     ]
    }
   ],
   "source": [
    "from sklearn.metrics import accuracy_score, precision_recall_fscore_support, confusion_matrix\n",
    "\n",
    "def evaluate_model(model, dataloader, device):\n",
    "    \"\"\"\n",
    "    Evaluate the model and compute metrics: accuracy, precision, recall, F1-score, and confusion matrix.\n",
    "\n",
    "    Args:\n",
    "        model (nn.Module): Trained PyTorch model.\n",
    "        dataloader (DataLoader): DataLoader for the test or validation dataset.\n",
    "        device (torch.device): Device (CPU/GPU) to run evaluation on.\n",
    "\n",
    "    Returns:\n",
    "        dict: A dictionary containing evaluation metrics.\n",
    "    \"\"\"\n",
    "    model.eval()  # Ensure the model is in evaluation mode\n",
    "    all_preds = []\n",
    "    all_labels = []\n",
    "\n",
    "    with torch.no_grad():  # Disable gradient computation for inference\n",
    "        for inputs, labels in dataloader:\n",
    "            inputs = inputs.to(device)\n",
    "            labels = labels.to(device)\n",
    "\n",
    "            outputs = model(inputs)  # Forward pass\n",
    "            _, preds = torch.max(outputs, 1)  # Get predicted classes\n",
    "\n",
    "            all_preds.extend(preds.cpu().numpy())  # Collect predictions\n",
    "            all_labels.extend(labels.cpu().numpy())  # Collect true labels\n",
    "\n",
    "    # Calculate evaluation metrics\n",
    "    accuracy = accuracy_score(all_labels, all_preds)\n",
    "    precision, recall, f1, _ = precision_recall_fscore_support(all_labels, all_preds, average=\"weighted\")\n",
    "    conf_matrix = confusion_matrix(all_labels, all_preds)\n",
    "\n",
    "    return {\n",
    "        \"accuracy\": accuracy,\n",
    "        \"precision\": precision,\n",
    "        \"recall\": recall,\n",
    "        \"f1_score\": f1,\n",
    "        \"confusion_matrix\": conf_matrix,\n",
    "    }\n",
    "\n",
    "# Example usage\n",
    "device = torch.device(\"cuda\" if torch.cuda.is_available() else \"cpu\")\n",
    "metrics = evaluate_model(model_cnn.to(device), test_loader, device)\n",
    "\n",
    "# Print results\n",
    "print(f\"Accuracy: {metrics['accuracy']:.4f}\")\n",
    "print(f\"Precision: {metrics['precision']:.4f}\")\n",
    "print(f\"Recall: {metrics['recall']:.4f}\")\n",
    "print(f\"F1-Score: {metrics['f1_score']:.4f}\")\n",
    "print(\"Confusion Matrix:\")\n",
    "print(metrics[\"confusion_matrix\"])\n"
   ]
  },
  {
   "cell_type": "markdown",
   "metadata": {},
   "source": [
    "- Precision: Of all the images predicted as a specific class (e.g., \"cat\"), how many were actually of that class? \n",
    "- Recall: Of all the images that actually belong to a specific class (e.g., \"cat\"), how many did the model correctly identify?\n",
    "- Averaged across all 10 classes.\n",
    "- F-1 Score: harmonic mean of precision and recall, balancing the tradeoff.\n",
    "- Confusion matrix: predicted class count on columns, true class count on rows."
   ]
  },
  {
   "cell_type": "markdown",
   "metadata": {},
   "source": [
    "After reviewing the confusion matrix, evaluate over each class. Class '4' seems to have relatively poor prediction capability."
   ]
  },
  {
   "cell_type": "code",
   "execution_count": 51,
   "metadata": {},
   "outputs": [
    {
     "name": "stdout",
     "output_type": "stream",
     "text": [
      "['airplane', 'automobile', 'bird', 'cat', 'deer', 'dog', 'frog', 'horse', 'ship', 'truck']\n"
     ]
    }
   ],
   "source": [
    "# Get class names directly from the dataset\n",
    "cifar10_classes = train_val_data.classes\n",
    "print(cifar10_classes)\n"
   ]
  },
  {
   "cell_type": "code",
   "execution_count": 52,
   "metadata": {},
   "outputs": [],
   "source": [
    "y_true = []\n",
    "y_pred = []\n",
    "\n",
    "# Set the model to evaluation mode\n",
    "model_cnn.eval()\n",
    "\n",
    "# Perform inference on the test dataset\n",
    "with torch.no_grad():\n",
    "    for inputs, labels in test_loader:\n",
    "        inputs = inputs.to(device)\n",
    "        labels = labels.to(device)\n",
    "\n",
    "        # Forward pass\n",
    "        outputs = model_cnn(inputs)\n",
    "        _, preds = torch.max(outputs, 1)\n",
    "\n",
    "        # Store results\n",
    "        y_true.extend(labels.cpu().numpy())\n",
    "        y_pred.extend(preds.cpu().numpy())\n"
   ]
  },
  {
   "cell_type": "code",
   "execution_count": 53,
   "metadata": {},
   "outputs": [
    {
     "name": "stdout",
     "output_type": "stream",
     "text": [
      "              precision    recall  f1-score   support\n",
      "\n",
      "    airplane       0.86      0.83      0.84      1000\n",
      "  automobile       0.94      0.88      0.91      1000\n",
      "        bird       0.78      0.70      0.74      1000\n",
      "         cat       0.70      0.62      0.66      1000\n",
      "        deer       0.69      0.87      0.77      1000\n",
      "         dog       0.74      0.74      0.74      1000\n",
      "        frog       0.84      0.88      0.86      1000\n",
      "       horse       0.89      0.84      0.86      1000\n",
      "        ship       0.87      0.93      0.90      1000\n",
      "       truck       0.88      0.90      0.89      1000\n",
      "\n",
      "    accuracy                           0.82     10000\n",
      "   macro avg       0.82      0.82      0.82     10000\n",
      "weighted avg       0.82      0.82      0.82     10000\n",
      "\n"
     ]
    }
   ],
   "source": [
    "from sklearn.metrics import classification_report\n",
    "\n",
    "# Dynamically get class names\n",
    "cifar10_classes = test_data.classes\n",
    "\n",
    "# Generate the classification report\n",
    "print(classification_report(y_true, y_pred, target_names=cifar10_classes))\n"
   ]
  },
  {
   "cell_type": "markdown",
   "metadata": {},
   "source": [
    "CNNs are superior for image classification due to their ability to learn high-level features directly from data, adapt to complex patterns, and perform efficiently in real-time applications, including on IoT devices. While PCA + SVM might still be used for less complex or highly specific tasks where training data is limited or when computational simplicity is prioritized, CNNs are the standard for most current image processing tasks. This difference is crucial in educational settings, emphasizing the need to train students on technologies that they are most likely to use in industry, particularly in cutting-edge fields like machine learning and computer vision."
   ]
  },
  {
   "cell_type": "markdown",
   "metadata": {},
   "source": [
    "### Hyperparameter tuning"
   ]
  },
  {
   "cell_type": "code",
   "execution_count": 10,
   "metadata": {},
   "outputs": [
    {
     "name": "stdout",
     "output_type": "stream",
     "text": [
      "Trial 30 Complete [00h 05m 13s]\n",
      "val_accuracy: 0.6797333359718323\n",
      "\n",
      "Best val_accuracy So Far: 0.7330666780471802\n",
      "Total elapsed time: 07h 32m 57s\n",
      "\n",
      "The best model uses 64 filters in the first Conv layer,\n",
      "a kernel size of 3, and 128 units in the dense layer,\n",
      "with a learning rate of 0.001.\n",
      "\n"
     ]
    }
   ],
   "source": [
    "import tensorflow as tf\n",
    "from tensorflow import keras\n",
    "from tensorflow.keras.layers import Input, Conv2D, MaxPooling2D, Flatten, Dense, Dropout\n",
    "from kerastuner.tuners import RandomSearch\n",
    "\n",
    "def build_model(hp):\n",
    "    model = keras.Sequential([\n",
    "        Input(shape=(32, 32, 3)),\n",
    "        Conv2D(filters=hp.Int('conv_1_filter', min_value=32, max_value=64, step=16),\n",
    "               kernel_size=hp.Choice('conv_1_kernel', values=[3, 5]),\n",
    "               padding=hp.Choice('conv_1_padding', values=['same', 'valid']),\n",
    "               activation='relu'),\n",
    "        MaxPooling2D(pool_size=(2, 2)),\n",
    "        Dropout(rate=hp.Float('dropout_1', min_value=0.1, max_value=0.3, step=0.05)),\n",
    "\n",
    "        Conv2D(filters=hp.Int('conv_2_filter', min_value=64, max_value=128, step=32),\n",
    "               kernel_size=hp.Choice('conv_2_kernel', values=[3, 5]),\n",
    "               padding=hp.Choice('conv_2_padding', values=['same', 'valid']),\n",
    "               activation='relu'),\n",
    "        MaxPooling2D(pool_size=(2, 2)),\n",
    "        Dropout(rate=hp.Float('dropout_2', min_value=0.2, max_value=0.4, step=0.05)),\n",
    "\n",
    "        Flatten(),\n",
    "        Dense(units=hp.Int('dense_units', min_value=64, max_value=128, step=32),\n",
    "              activation='relu'),\n",
    "        Dropout(rate=hp.Float('dropout_3', min_value=0.3, max_value=0.5, step=0.05)),\n",
    "        Dense(10, activation='softmax')\n",
    "    ])\n",
    "    \n",
    "    model.compile(\n",
    "        optimizer=keras.optimizers.Adam(hp.Choice('learning_rate', values=[1e-3, 1e-4])),\n",
    "        loss='sparse_categorical_crossentropy',\n",
    "        metrics=['accuracy']\n",
    "    )\n",
    "    return model\n",
    "\n",
    "tuner = RandomSearch(\n",
    "    build_model,\n",
    "    objective='val_accuracy',\n",
    "    max_trials=30,  # Increased number of trials for finer exploration\n",
    "    executions_per_trial=1,\n",
    "    directory='ml_result/hp_tuning',\n",
    "    project_name='hparam_tuning'\n",
    ")\n",
    "\n",
    "tuner.search(x=X_train, y=y_train, epochs=10, validation_data=(X_validate, y_validate))\n",
    "\n",
    "# Get the optimal hyperparameters\n",
    "best_hps = tuner.get_best_hyperparameters(num_trials=1)[0]\n",
    "\n",
    "print(f\"\"\"\n",
    "The best model uses {best_hps.get('conv_1_filter')} filters in the first Conv layer,\n",
    "a kernel size of {best_hps.get('conv_1_kernel')}, and {best_hps.get('dense_units')} units in the dense layer,\n",
    "with a learning rate of {best_hps.get('learning_rate')}.\n",
    "\"\"\")\n",
    "\n",
    "# Retrieve the best model.\n",
    "best_model = tuner.get_best_models(num_models=1)[0]\n",
    "\n",
    "# Evaluate the best model\n",
    "# loss, accuracy = best_model.evaluate(X_test, y_test)\n",
    "# print(f'Test accuracy: {accuracy}, Test loss: {loss}')\n"
   ]
  },
  {
   "cell_type": "code",
   "execution_count": 22,
   "metadata": {},
   "outputs": [
    {
     "name": "stdout",
     "output_type": "stream",
     "text": [
      "conv_1_filter: 64\n",
      "conv_1_kernel: 3\n",
      "conv_2_filter: 128\n",
      "conv_2_kernel: 3\n",
      "dense_units: 128\n",
      "learning_rate: 0.001\n",
      "conv_1_padding: same\n",
      "dropout_1: 0.15000000000000002\n",
      "conv_2_padding: valid\n",
      "dropout_2: 0.25\n",
      "dropout_3: 0.3\n"
     ]
    }
   ],
   "source": [
    "for hparam in best_hps.space:\n",
    "    print(f\"{hparam.name}: {best_hps.get(hparam.name)}\")"
   ]
  }
 ],
 "metadata": {
  "kernelspec": {
   "display_name": ".venv",
   "language": "python",
   "name": "python3"
  },
  "language_info": {
   "codemirror_mode": {
    "name": "ipython",
    "version": 3
   },
   "file_extension": ".py",
   "mimetype": "text/x-python",
   "name": "python",
   "nbconvert_exporter": "python",
   "pygments_lexer": "ipython3",
   "version": "3.10.15"
  }
 },
 "nbformat": 4,
 "nbformat_minor": 2
}
