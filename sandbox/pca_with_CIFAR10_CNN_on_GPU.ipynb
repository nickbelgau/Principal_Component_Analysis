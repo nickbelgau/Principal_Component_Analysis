{
 "cells": [
  {
   "cell_type": "markdown",
   "metadata": {},
   "source": [
    "# PCA with Image Dataset CIFAR-10"
   ]
  },
  {
   "cell_type": "markdown",
   "metadata": {},
   "source": [
    "Check that the GPU is being used"
   ]
  },
  {
   "cell_type": "code",
   "execution_count": 1,
   "metadata": {},
   "outputs": [
    {
     "name": "stdout",
     "output_type": "stream",
     "text": [
      "GPU is available\n",
      "GPU Name: NVIDIA GeForce RTX 4090\n",
      "Current Device: 0\n"
     ]
    }
   ],
   "source": [
    "import torch\n",
    "# Check if GPU is available\n",
    "if torch.cuda.is_available():\n",
    "    print(\"GPU is available\")\n",
    "    print(\"GPU Name:\", torch.cuda.get_device_name(0))\n",
    "    print(\"Current Device:\", torch.cuda.current_device())\n",
    "else:\n",
    "    print(\"GPU is not available\")"
   ]
  },
  {
   "cell_type": "markdown",
   "metadata": {},
   "source": [
    "### About"
   ]
  },
  {
   "cell_type": "markdown",
   "metadata": {},
   "source": [
    "Practical Implementation Scenarios:\n",
    "PCA is commonly referred to as a practical technique for image compression and dimentionality reduction for classification tasks. While PCA does provide an improvement for traditional machine learning models like SVM, modern models such as CNNs have allowed for practical application, replacing the need to use PCA. CNNs are smaller modules, especially models such as Tiny Yolo which are on the order of 10 MB, nearly 1% the size of SVM models. This allows for these models to be deployed across smart devices in edge-computing applications. THe reduction in model size also results in much faster predictions in production."
   ]
  },
  {
   "cell_type": "markdown",
   "metadata": {},
   "source": [
    "The CIFAR-10 dataset consists of 5000 32x32 colour images in 10 classes. The dataset is normalized and divided into training, validation, and test sets.  "
   ]
  },
  {
   "cell_type": "code",
   "execution_count": null,
   "metadata": {},
   "outputs": [],
   "source": [
    "import torch\n",
    "\n",
    "import torch.optim as optim\n",
    "from torchvision import datasets, transforms\n",
    "from torch.utils.data import DataLoader, random_split"
   ]
  },
  {
   "cell_type": "markdown",
   "metadata": {},
   "source": [
    "### Load data"
   ]
  },
  {
   "cell_type": "code",
   "execution_count": 17,
   "metadata": {},
   "outputs": [
    {
     "name": "stdout",
     "output_type": "stream",
     "text": [
      "Files already downloaded and verified\n"
     ]
    }
   ],
   "source": [
    "# Define transformation: convert images to tensors only\n",
    "transform = transforms.ToTensor()\n",
    "\n",
    "# Load CIFAR-10 training dataset without normalization\n",
    "train_val_data = datasets.CIFAR10(root='./data', train=True, download=True, transform=transform)"
   ]
  },
  {
   "cell_type": "markdown",
   "metadata": {},
   "source": [
    "### Define transformation pipeline"
   ]
  },
  {
   "cell_type": "markdown",
   "metadata": {},
   "source": [
    "Consider applying data augmentation to increase the complexity of the learning algorithm\n",
    "- RandomHorizontalFlip(): This flips images horizontally with a 50% probability, which is effective for object recognition as the CIFAR-10 classes (e.g., animals, vehicles) are often symmetrical or orientation-invariant.  \n",
    "- RandomCrop(): Random cropping with padding (e.g., padding by 4 pixels) simulates slight variations in object positioning and helps the model generalize better to minor shifts.  \n",
    "- ColorJitter(): Randomly adjusts brightness, contrast, saturation, and hue, simulating different lighting conditions and color variations.  \n",
    "- Normalize(): Standardizes pixel values from mean and standard deviation, which improves convergence."
   ]
  },
  {
   "cell_type": "markdown",
   "metadata": {},
   "source": [
    "First, calculate the mean and stdev which is used for normalization."
   ]
  },
  {
   "cell_type": "code",
   "execution_count": 116,
   "metadata": {},
   "outputs": [
    {
     "name": "stdout",
     "output_type": "stream",
     "text": [
      "Calculated Mean: tensor([ 7.9639e-07, -1.5583e-07, -7.4883e-08])\n",
      "Calculated Std: tensor([1.0000, 1.0000, 1.0000])\n"
     ]
    }
   ],
   "source": [
    "# Calculate mean and std\n",
    "def calculate_mean_std(dataset):\n",
    "    loader = DataLoader(dataset, batch_size=500, shuffle=False, num_workers=2)\n",
    "    mean = 0.0\n",
    "    std = 0.0\n",
    "    total_samples = 0\n",
    "    for images, _ in loader:\n",
    "        batch_samples = images.size(0)\n",
    "        images = images.view(batch_samples, images.size(1), -1)\n",
    "        mean += images.mean(2).sum(0)\n",
    "        std += images.std(2).sum(0)\n",
    "        total_samples += batch_samples\n",
    "    mean /= total_samples\n",
    "    std /= total_samples\n",
    "    return mean, std\n",
    "\n",
    "mean, std = calculate_mean_std(train_val_data)\n",
    "print(f\"Calculated Mean: {mean}\")\n",
    "print(f\"Calculated Std: {std}\")"
   ]
  },
  {
   "cell_type": "markdown",
   "metadata": {},
   "source": [
    "Can pass as tensor or convert to a list in ```transforms.Normalize()```"
   ]
  },
  {
   "cell_type": "code",
   "execution_count": 105,
   "metadata": {},
   "outputs": [],
   "source": [
    "# Define transformations: convert to tensor and normalize\n",
    "transform = transforms.Compose([\n",
    "    transforms.ToTensor(),\n",
    "    transforms.Normalize(mean, std)\n",
    "])"
   ]
  },
  {
   "cell_type": "code",
   "execution_count": 117,
   "metadata": {},
   "outputs": [
    {
     "name": "stdout",
     "output_type": "stream",
     "text": [
      "Files already downloaded and verified\n"
     ]
    }
   ],
   "source": [
    "transform = transforms.Compose([\n",
    "    transforms.RandomHorizontalFlip(),\n",
    "    transforms.ToTensor(),\n",
    "    transforms.Normalize(mean, std)\n",
    "])\n",
    "\n",
    "# Apply this to the training data\n",
    "train_data = datasets.CIFAR10(root='./data', train=True, download=True, transform=transform)"
   ]
  },
  {
   "cell_type": "markdown",
   "metadata": {},
   "source": [
    "Using ```transforms.Normalize``` is generally preferred in PyTorch as it integrates seamlessly with DataLoader and ensures consistency during training and evaluation."
   ]
  },
  {
   "cell_type": "markdown",
   "metadata": {},
   "source": [
    "Reload with normalization"
   ]
  },
  {
   "cell_type": "code",
   "execution_count": 118,
   "metadata": {},
   "outputs": [
    {
     "name": "stdout",
     "output_type": "stream",
     "text": [
      "Files already downloaded and verified\n"
     ]
    }
   ],
   "source": [
    "# Reload CIFAR-10 datasets with normalization\n",
    "train_val_data = datasets.CIFAR10(root='./data', train=True, download=False, transform=transform)\n",
    "test_data = datasets.CIFAR10(root='./data', train=False, download=True, transform=transform)"
   ]
  },
  {
   "cell_type": "markdown",
   "metadata": {},
   "source": [
    "Check normalization by pulling in 1 record"
   ]
  },
  {
   "cell_type": "markdown",
   "metadata": {},
   "source": [
    "### Split training data to create a validation set"
   ]
  },
  {
   "cell_type": "code",
   "execution_count": 119,
   "metadata": {},
   "outputs": [],
   "source": [
    "# Set a manual seed for reproducibility\n",
    "torch.manual_seed(42)\n",
    "\n",
    "# Split into training and validation (85% train, 15% validation)\n",
    "train_size = int(0.85 * len(train_val_data))\n",
    "val_size = len(train_val_data) - train_size\n",
    "train_data, val_data = random_split(train_val_data, [train_size, val_size])"
   ]
  },
  {
   "cell_type": "markdown",
   "metadata": {},
   "source": [
    "### Create data loaders"
   ]
  },
  {
   "cell_type": "markdown",
   "metadata": {},
   "source": [
    "Large batch sizes can sometimes lead to decreased accuracy because smaller batches add more noise to the gradient estimates, which can help in escaping local minima."
   ]
  },
  {
   "cell_type": "code",
   "execution_count": 157,
   "metadata": {},
   "outputs": [],
   "source": [
    "# Optimized DataLoaders\n",
    "batch_size = 128  # Increase batch size based on GPU memory; RTX 4090 can handle large batches\n",
    "num_workers = 12   # Utilize multiple CPU cores for faster data loading\n",
    "pin_memory = True if torch.cuda.is_available() else False  # Speeds up data transfer to GPU\n",
    "\n",
    "train_loader = DataLoader(\n",
    "    train_data,\n",
    "    batch_size=batch_size,\n",
    "    shuffle=True,\n",
    "    num_workers=num_workers,\n",
    "    pin_memory=pin_memory,\n",
    "    persistent_workers=True  # Keeps workers alive between epochs for faster data loading\n",
    ")\n",
    "\n",
    "val_loader = DataLoader(\n",
    "    val_data,\n",
    "    batch_size=batch_size,\n",
    "    shuffle=False,\n",
    "    num_workers=num_workers,\n",
    "    pin_memory=pin_memory,\n",
    "    persistent_workers=True\n",
    ")\n",
    "\n",
    "test_loader = DataLoader(\n",
    "    test_data,\n",
    "    batch_size=batch_size,\n",
    "    shuffle=False,\n",
    "    num_workers=num_workers,\n",
    "    pin_memory=pin_memory,\n",
    "    persistent_workers=True\n",
    ")"
   ]
  },
  {
   "cell_type": "markdown",
   "metadata": {},
   "source": [
    "Explanation of Parameters:  \n",
    "\n",
    "batch_size=256: Higher batch sizes can improve GPU utilization. RTX 4090 can handle large batches due to its high memory capacity.  \n",
    "num_workers=8: Utilize all available CPU cores (your 7800X3D has 16 cores, so 8 workers should be efficient).  \n",
    "pin_memory=True: Speeds up data transfer to GPU.  "
   ]
  },
  {
   "cell_type": "markdown",
   "metadata": {},
   "source": [
    "### Convolutional Neural Network (CNN)"
   ]
  },
  {
   "cell_type": "markdown",
   "metadata": {},
   "source": [
    "Define the CNN:  \n",
    "- (3) convolutional layers, each followed by batch normalization, max pooling, and dropout layers"
   ]
  },
  {
   "cell_type": "code",
   "execution_count": 158,
   "metadata": {},
   "outputs": [],
   "source": [
    "import torch.nn as nn\n",
    "\n",
    "class CNNModel(nn.Module):\n",
    "    def __init__(self):\n",
    "        super(CNNModel, self).__init__() # call parent class constructor\n",
    "        self.conv1 = nn.Conv2d(3, 32, kernel_size=3, padding=1)  # 3 channel RGB size 32x32 # padding=1 to maintain spatial dimensions\n",
    "        self.bn1 = nn.BatchNorm2d(32)\n",
    "        self.pool1 = nn.MaxPool2d(kernel_size=2, stride=2)       # reduce spatial dims by downsampling # Output: 32 x 16 x 16\n",
    "        self.dropout1 = nn.Dropout(0.25) # randomly set some outputs to 0 to prevent overfitting\n",
    "        \n",
    "        self.conv2 = nn.Conv2d(32, 64, kernel_size=3, padding=1) # Padding=1 to maintain spatial dimensions\n",
    "        self.bn2 = nn.BatchNorm2d(64)\n",
    "        self.pool2 = nn.MaxPool2d(kernel_size=2, stride=2)       # Output: 64 channel x 8 x 8\n",
    "        self.dropout2 = nn.Dropout(0.25)\n",
    "        \n",
    "        self.conv3 = nn.Conv2d(64, 128, kernel_size=3, padding=1) # Padding=1 to maintain spatial dimensions\n",
    "        self.bn3 = nn.BatchNorm2d(128)\n",
    "        self.pool3 = nn.MaxPool2d(kernel_size=2, stride=2)       # Output: 128 x 4 x 4\n",
    "        self.dropout3 = nn.Dropout(0.25)\n",
    "        \n",
    "        self.flatten = nn.Flatten() # converts multi-dim output of convolutional layers to a 1D vector\n",
    "        self.fc1 = nn.Linear(128 * 4 * 4, 256) # matches the output size\n",
    "        self.bn4 = nn.BatchNorm1d(256)\n",
    "        self.dropout4 = nn.Dropout(0.50)\n",
    "        self.fc2 = nn.Linear(256, 10) # output layer with 10 classes for CIFAR-10\n",
    "    \n",
    "    def forward(self, x):\n",
    "        '''\n",
    "        Define the data flow through the layers.\n",
    "        '''\n",
    "        x = torch.relu(self.bn1(self.conv1(x)))\n",
    "        x = self.pool1(x)\n",
    "        x = self.dropout1(x)\n",
    "        \n",
    "        x = torch.relu(self.bn2(self.conv2(x)))\n",
    "        x = self.pool2(x)\n",
    "        x = self.dropout2(x)\n",
    "        \n",
    "        x = torch.relu(self.bn3(self.conv3(x)))\n",
    "        x = self.pool3(x)\n",
    "        x = self.dropout3(x)\n",
    "        \n",
    "        x = self.flatten(x)\n",
    "        x = torch.relu(self.bn4(self.fc1(x)))\n",
    "        x = self.dropout4(x)\n",
    "        \n",
    "        x = self.fc2(x)  # No softmax here; handled by CrossEntropyLoss since softmax is applied internally to it\n",
    "        return x\n",
    "\n",
    "# Initialize the model\n",
    "model_cnn = CNNModel()\n",
    "# print(model_cnn)\n"
   ]
  },
  {
   "cell_type": "markdown",
   "metadata": {},
   "source": [
    "### Move to GPU  \n",
    "\n",
    "Set the device used by Torch to GPU if ```cuda``` is available, otherwise use CPU.  \n",
    "Expected value: \"cuda\"\n"
   ]
  },
  {
   "cell_type": "code",
   "execution_count": 159,
   "metadata": {},
   "outputs": [
    {
     "name": "stdout",
     "output_type": "stream",
     "text": [
      "Using device: cuda\n"
     ]
    }
   ],
   "source": [
    "# Check if GPU is available and move model to GPU if possible\n",
    "device = torch.device(\"cuda\" if torch.cuda.is_available() else \"cpu\")\n",
    "print(f\"Using device: {device}\")\n",
    "model_cnn = model_cnn.to(device)"
   ]
  },
  {
   "cell_type": "markdown",
   "metadata": {},
   "source": [
    "Confirm the device used by the model by checking the first parameter.  \n",
    "Expected value: \"cuda:0\""
   ]
  },
  {
   "cell_type": "code",
   "execution_count": 160,
   "metadata": {},
   "outputs": [
    {
     "name": "stdout",
     "output_type": "stream",
     "text": [
      "Model is on device: cuda:0\n"
     ]
    }
   ],
   "source": [
    "# Check the device of the model's parameters\n",
    "model_device = next(model_cnn.parameters()).device # next() is used for accessing first element of an iterator\n",
    "print(f\"Model is on device: {model_device}\")"
   ]
  },
  {
   "cell_type": "markdown",
   "metadata": {},
   "source": [
    "### Define loss function and optimizer"
   ]
  },
  {
   "cell_type": "code",
   "execution_count": 161,
   "metadata": {},
   "outputs": [],
   "source": [
    "import torch.nn as nn\n",
    "import torch.optim as optim\n",
    "\n",
    "criterion = nn.CrossEntropyLoss()\n",
    "optimizer = optim.Adam(model_cnn.parameters(), lr=3e-4)"
   ]
  },
  {
   "cell_type": "markdown",
   "metadata": {},
   "source": [
    "Adam = Adaptive Moment Estimation is the standard for deep learning optimizer to update weights and biases.  \n",
    "\n",
    "During each iteration of training:  \n",
    "- Compute Gradients: Backpropagation calculates the gradients of the loss with respect to each parameter in model_cnn.\n",
    "- Update Parameters: The optimizer uses these gradients, along with the internal settings of Adam, to adjust the model's parameters.\n",
    "- Continue Until Convergence: repeat process until the model reaches an acceptable performance or finishes the specified training epochs."
   ]
  },
  {
   "cell_type": "markdown",
   "metadata": {},
   "source": [
    "### Training and validation loops"
   ]
  },
  {
   "cell_type": "code",
   "execution_count": 162,
   "metadata": {},
   "outputs": [],
   "source": [
    "history_cnn = {\n",
    "    'train_loss': [],\n",
    "    'val_loss': [],\n",
    "    'train_accuracy': [],\n",
    "    'val_accuracy': []\n",
    "}"
   ]
  },
  {
   "cell_type": "code",
   "execution_count": null,
   "metadata": {},
   "outputs": [
    {
     "name": "stdout",
     "output_type": "stream",
     "text": [
      "\n",
      "Epoch [1/50]\n",
      "Epoch [1/50] completed in 1.21 seconds\n",
      "Train Loss: 0.5952, Train Acc: 0.7900, Val Loss: 0.6719, Val Acc: 0.7696\n",
      "Best model saved!\n",
      "\n",
      "Epoch [2/50]\n",
      "Epoch [2/50] completed in 0.96 seconds\n",
      "Train Loss: 0.5933, Train Acc: 0.7899, Val Loss: 0.6735, Val Acc: 0.7680\n",
      "No improvement for 1 epochs.\n",
      "\n",
      "Epoch [3/50]\n",
      "Epoch [3/50] completed in 0.99 seconds\n",
      "Train Loss: 0.5891, Train Acc: 0.7930, Val Loss: 0.6273, Val Acc: 0.7851\n",
      "Best model saved!\n",
      "\n",
      "Epoch [4/50]\n",
      "Epoch [4/50] completed in 0.97 seconds\n",
      "Train Loss: 0.5820, Train Acc: 0.7947, Val Loss: 0.6600, Val Acc: 0.7716\n",
      "No improvement for 1 epochs.\n",
      "\n",
      "Epoch [5/50]\n",
      "Epoch [5/50] completed in 0.96 seconds\n",
      "Train Loss: 0.5846, Train Acc: 0.7952, Val Loss: 0.6474, Val Acc: 0.7751\n",
      "No improvement for 2 epochs.\n",
      "\n",
      "Epoch [6/50]\n",
      "Epoch [6/50] completed in 0.98 seconds\n",
      "Train Loss: 0.5807, Train Acc: 0.7987, Val Loss: 0.5605, Val Acc: 0.8055\n",
      "Best model saved!\n",
      "\n",
      "Epoch [7/50]\n",
      "Epoch [7/50] completed in 1.00 seconds\n",
      "Train Loss: 0.5851, Train Acc: 0.7964, Val Loss: 0.5278, Val Acc: 0.8151\n",
      "Best model saved!\n",
      "\n",
      "Epoch [8/50]\n",
      "Epoch [8/50] completed in 0.98 seconds\n",
      "Train Loss: 0.5730, Train Acc: 0.8004, Val Loss: 0.5308, Val Acc: 0.8183\n",
      "Best model saved!\n",
      "\n",
      "Epoch [9/50]\n",
      "Epoch [9/50] completed in 0.98 seconds\n",
      "Train Loss: 0.5734, Train Acc: 0.7996, Val Loss: 0.6119, Val Acc: 0.7916\n",
      "No improvement for 1 epochs.\n",
      "\n",
      "Epoch [10/50]\n",
      "Epoch [10/50] completed in 0.95 seconds\n",
      "Train Loss: 0.5655, Train Acc: 0.8011, Val Loss: 0.5482, Val Acc: 0.8136\n",
      "No improvement for 2 epochs.\n",
      "\n",
      "Epoch [11/50]\n",
      "Epoch [11/50] completed in 0.94 seconds\n",
      "Train Loss: 0.5647, Train Acc: 0.8036, Val Loss: 0.6288, Val Acc: 0.7824\n",
      "No improvement for 3 epochs.\n",
      "\n",
      "Epoch [12/50]\n",
      "Epoch [12/50] completed in 0.94 seconds\n",
      "Train Loss: 0.5633, Train Acc: 0.8021, Val Loss: 0.5825, Val Acc: 0.8005\n",
      "No improvement for 4 epochs.\n",
      "\n",
      "Epoch [13/50]\n",
      "Epoch [13/50] completed in 0.95 seconds\n",
      "Train Loss: 0.5652, Train Acc: 0.8019, Val Loss: 0.5960, Val Acc: 0.7953\n",
      "No improvement for 5 epochs.\n",
      "Early stopping triggered.\n"
     ]
    }
   ],
   "source": [
    "import time\n",
    "\n",
    "# Enables optimization of convolutional algorithm, enabled by cuDNN\n",
    "# could use direct, FFT-based, or Winograd\n",
    "torch.backends.cudnn.benchmark = True\n",
    "\n",
    "# Define training parameters\n",
    "num_epochs = 50\n",
    "\n",
    "# Early Stopping Parameters\n",
    "best_val_accuracy = 0.0\n",
    "patience = 5\n",
    "trigger_times = 0\n",
    "\n",
    "# Initialize the scheduler which will help adjust learning rate and avoid overshooting the optimal params\n",
    "scheduler = torch.optim.lr_scheduler.ReduceLROnPlateau(optimizer, mode='min', patience=2, factor=0.5, verbose=True)\n",
    "\n",
    "for epoch in range(num_epochs):\n",
    "    # Training phase\n",
    "    model_cnn.train()\n",
    "    running_loss, correct = 0.0, 0\n",
    "    epoch_start_time = time.time()\n",
    "    \n",
    "    for batch_idx, (X_batch, y_batch) in enumerate(train_loader):\n",
    "        # Move data to GPU\n",
    "        X_batch = X_batch.to(device, non_blocking=True).float()\n",
    "        y_batch = y_batch.to(device, non_blocking=True)\n",
    "        \n",
    "        # Diagnostic print for the first batch of each epoch\n",
    "        if batch_idx == 0:\n",
    "            print(f\"\\nEpoch [{epoch+1}/{num_epochs}]\")\n",
    "            # Assertions to ensure data is on GPU and in float32\n",
    "            assert X_batch.device.type == 'cuda', \"X_batch is not on GPU\" # if false, raise Assertion Error\n",
    "            assert y_batch.device.type == 'cuda', \"y_batch is not on GPU\"\n",
    "            assert X_batch.dtype == torch.float32, \"X_batch is not float32\"\n",
    "            assert y_batch.dtype in [torch.long, torch.int], \"y_batch should be integer type\"\n",
    "        \n",
    "        # Zero the gradients\n",
    "        optimizer.zero_grad()\n",
    "        \n",
    "        # Forward pass\n",
    "        outputs = model_cnn(X_batch)\n",
    "        loss = criterion(outputs, y_batch)\n",
    "        \n",
    "        # Backward pass and optimization\n",
    "        loss.backward()\n",
    "        optimizer.step()\n",
    "        \n",
    "        # Accumulate loss and correct predictions\n",
    "        running_loss += loss.item() * X_batch.size(0)\n",
    "        correct += (outputs.argmax(1) == y_batch).sum().item()\n",
    "    \n",
    "    # Calculate epoch training loss and accuracy\n",
    "    epoch_train_loss = running_loss / len(train_loader.dataset)\n",
    "    epoch_train_accuracy = correct / len(train_loader.dataset)\n",
    "    history_cnn['train_loss'].append(epoch_train_loss)\n",
    "    history_cnn['train_accuracy'].append(epoch_train_accuracy)\n",
    "\n",
    "    # Validation phase\n",
    "    model_cnn.eval()\n",
    "    val_loss, val_correct = 0.0, 0\n",
    "    with torch.no_grad():\n",
    "        for X_batch, y_batch in val_loader:\n",
    "            # Move data to GPU\n",
    "            X_batch = X_batch.to(device, non_blocking=True).float()\n",
    "            y_batch = y_batch.to(device, non_blocking=True)\n",
    "            \n",
    "            # Forward pass\n",
    "            outputs = model_cnn(X_batch)\n",
    "            loss = criterion(outputs, y_batch)\n",
    "            \n",
    "            # Accumulate loss and correct predictions\n",
    "            val_loss += loss.item() * X_batch.size(0)\n",
    "            val_correct += (outputs.argmax(1) == y_batch).sum().item()\n",
    "    \n",
    "    # Calculate epoch validation loss and accuracy\n",
    "    epoch_val_loss = val_loss / len(val_loader.dataset)\n",
    "    epoch_val_accuracy = val_correct / len(val_loader.dataset)\n",
    "    history_cnn['val_loss'].append(epoch_val_loss)\n",
    "    history_cnn['val_accuracy'].append(epoch_val_accuracy)\n",
    "    \n",
    "    # After each epoch, adjust learning rate based on validation loss\n",
    "    scheduler.step(epoch_val_loss)  # Call step() with validation loss\n",
    "\n",
    "    # Calculate total epoch duration\n",
    "    epoch_end_time = time.time()\n",
    "    epoch_duration = epoch_end_time - epoch_start_time\n",
    "    \n",
    "    # after each epoch, adjust learning rate based on validation loss\n",
    "    scheduler = torch.optim.lr_scheduler.ReduceLROnPlateau(optimizer, mode='min', patience=2, factor=0.5, verbose=True)\n",
    "\n",
    "\n",
    "    # Print epoch summary\n",
    "    print(f\"Epoch [{epoch+1}/{num_epochs}] completed in {epoch_duration:.2f} seconds\")\n",
    "    print(f\"Train Loss: {epoch_train_loss:.4f}, Train Acc: {epoch_train_accuracy:.4f}, \"\n",
    "          f\"Val Loss: {epoch_val_loss:.4f}, Val Acc: {epoch_val_accuracy:.4f}\")\n",
    "    \n",
    "    # Early Stopping and Model Checkpointing\n",
    "    if epoch_val_accuracy > best_val_accuracy:\n",
    "        best_val_accuracy = epoch_val_accuracy\n",
    "        torch.save(model_cnn.state_dict(), 'best_model.pth')\n",
    "        print(\"Best model saved!\")\n",
    "        trigger_times = 0\n",
    "    else:\n",
    "        trigger_times += 1\n",
    "        print(f\"No improvement for {trigger_times} epochs.\")\n",
    "        if trigger_times >= patience:\n",
    "            print(\"Early stopping triggered.\")\n",
    "            break\n"
   ]
  },
  {
   "cell_type": "markdown",
   "metadata": {},
   "source": [
    "Investigate overfitting"
   ]
  },
  {
   "cell_type": "code",
   "execution_count": 163,
   "metadata": {},
   "outputs": [
    {
     "data": {
      "image/png": "[encoded data removed]",
      "text/plain": [
       "<Figure size 1200x500 with 2 Axes>"
      ]
     },
     "metadata": {},
     "output_type": "display_data"
    }
   ],
   "source": [
    "import matplotlib.pyplot as plt\n",
    "from matplotlib.ticker import MaxNLocator\n",
    "\n",
    "def plot_losses(history):\n",
    "    '''\n",
    "    Function to plot training and validation loss and accuracy.\n",
    "    Accepts a dictionary containing lists of loss and accuracy values.\n",
    "    '''\n",
    "    fig, axs = plt.subplots(1, 2, figsize=(12, 5))\n",
    "\n",
    "    # Plotting training and validation loss\n",
    "    axs[0].plot(history['train_loss'], label='Training Loss')\n",
    "    axs[0].plot(history['val_loss'], label='Validation Loss')\n",
    "    axs[0].set_title('Training and Validation Loss')\n",
    "    axs[0].set_xlabel('Epoch')\n",
    "    axs[0].set_ylabel('Loss')\n",
    "    axs[0].legend()\n",
    "    axs[0].xaxis.set_major_locator(MaxNLocator(integer=True))\n",
    "\n",
    "    # Plotting training and validation accuracy\n",
    "    axs[1].plot(history['train_accuracy'], label='Training Accuracy')\n",
    "    axs[1].plot(history['val_accuracy'], label='Validation Accuracy')\n",
    "    axs[1].set_title('Training and Validation Accuracy')\n",
    "    axs[1].set_xlabel('Epoch')\n",
    "    axs[1].set_ylabel('Accuracy')\n",
    "    axs[1].legend()\n",
    "    axs[1].xaxis.set_major_locator(MaxNLocator(integer=True))\n",
    "\n",
    "    plt.tight_layout()\n",
    "    plt.show()\n",
    "    return fig  # Return the figure object for saving or further manipulation\n",
    "\n",
    "# Plot using the modified function\n",
    "fig = plot_losses(history_cnn)\n",
    "\n",
    "# fig.savefig('training_metrics.png')"
   ]
  },
  {
   "cell_type": "code",
   "execution_count": 9,
   "metadata": {},
   "outputs": [],
   "source": [
    "model_cnn.save('../model/cnn_tf213.keras')\n",
    "model_cnn.save('model/cnn_tf213.keras')"
   ]
  },
  {
   "cell_type": "markdown",
   "metadata": {},
   "source": [
    "CNN with PCA"
   ]
  },
  {
   "cell_type": "code",
   "execution_count": 12,
   "metadata": {},
   "outputs": [
    {
     "name": "stdout",
     "output_type": "stream",
     "text": [
      "Epoch 1/20\n",
      "665/665 - 4s - loss: 2.3287 - accuracy: 0.1475 - val_loss: 2.1265 - val_accuracy: 0.2667 - 4s/epoch - 6ms/step\n",
      "Epoch 2/20\n",
      "665/665 - 2s - loss: 2.1216 - accuracy: 0.2165 - val_loss: 1.9643 - val_accuracy: 0.3220 - 2s/epoch - 4ms/step\n",
      "Epoch 3/20\n",
      "665/665 - 2s - loss: 2.0121 - accuracy: 0.2636 - val_loss: 1.8524 - val_accuracy: 0.3527 - 2s/epoch - 3ms/step\n",
      "Epoch 4/20\n",
      "665/665 - 2s - loss: 1.9289 - accuracy: 0.2999 - val_loss: 1.7827 - val_accuracy: 0.3773 - 2s/epoch - 4ms/step\n",
      "Epoch 5/20\n",
      "665/665 - 2s - loss: 1.8741 - accuracy: 0.3239 - val_loss: 1.7288 - val_accuracy: 0.3957 - 2s/epoch - 3ms/step\n",
      "Epoch 6/20\n",
      "665/665 - 2s - loss: 1.8257 - accuracy: 0.3436 - val_loss: 1.6957 - val_accuracy: 0.4127 - 2s/epoch - 4ms/step\n",
      "Epoch 7/20\n",
      "665/665 - 2s - loss: 1.7922 - accuracy: 0.3578 - val_loss: 1.6662 - val_accuracy: 0.4201 - 2s/epoch - 4ms/step\n",
      "Epoch 8/20\n",
      "665/665 - 2s - loss: 1.7571 - accuracy: 0.3761 - val_loss: 1.6361 - val_accuracy: 0.4305 - 2s/epoch - 3ms/step\n",
      "Epoch 9/20\n",
      "665/665 - 3s - loss: 1.7258 - accuracy: 0.3825 - val_loss: 1.6087 - val_accuracy: 0.4425 - 3s/epoch - 4ms/step\n",
      "Epoch 10/20\n",
      "665/665 - 2s - loss: 1.7004 - accuracy: 0.3959 - val_loss: 1.5824 - val_accuracy: 0.4436 - 2s/epoch - 4ms/step\n",
      "Epoch 11/20\n",
      "665/665 - 2s - loss: 1.6703 - accuracy: 0.4076 - val_loss: 1.5545 - val_accuracy: 0.4549 - 2s/epoch - 4ms/step\n",
      "Epoch 12/20\n",
      "665/665 - 2s - loss: 1.6541 - accuracy: 0.4145 - val_loss: 1.5379 - val_accuracy: 0.4581 - 2s/epoch - 4ms/step\n",
      "Epoch 13/20\n",
      "665/665 - 3s - loss: 1.6297 - accuracy: 0.4240 - val_loss: 1.5198 - val_accuracy: 0.4669 - 3s/epoch - 4ms/step\n",
      "Epoch 14/20\n",
      "665/665 - 2s - loss: 1.6100 - accuracy: 0.4298 - val_loss: 1.5028 - val_accuracy: 0.4649 - 2s/epoch - 3ms/step\n",
      "Epoch 15/20\n",
      "665/665 - 3s - loss: 1.5975 - accuracy: 0.4326 - val_loss: 1.4911 - val_accuracy: 0.4755 - 3s/epoch - 4ms/step\n",
      "Epoch 16/20\n",
      "665/665 - 2s - loss: 1.5762 - accuracy: 0.4420 - val_loss: 1.4759 - val_accuracy: 0.4807 - 2s/epoch - 4ms/step\n",
      "Epoch 17/20\n",
      "665/665 - 2s - loss: 1.5542 - accuracy: 0.4469 - val_loss: 1.4596 - val_accuracy: 0.4803 - 2s/epoch - 4ms/step\n",
      "Epoch 18/20\n",
      "665/665 - 2s - loss: 1.5324 - accuracy: 0.4555 - val_loss: 1.4449 - val_accuracy: 0.4836 - 2s/epoch - 3ms/step\n",
      "Epoch 19/20\n",
      "665/665 - 2s - loss: 1.5235 - accuracy: 0.4570 - val_loss: 1.4357 - val_accuracy: 0.4883 - 2s/epoch - 3ms/step\n",
      "Epoch 20/20\n",
      "665/665 - 2s - loss: 1.5068 - accuracy: 0.4654 - val_loss: 1.4240 - val_accuracy: 0.4952 - 2s/epoch - 4ms/step\n"
     ]
    }
   ],
   "source": [
    "import tensorflow as tf\n",
    "from tensorflow.keras import losses\n",
    "from tensorflow.keras import optimizers\n",
    "from tensorflow.keras.models import Sequential\n",
    "from tensorflow.keras.layers import Input, Conv2D, MaxPooling2D, Flatten, Dense, Dropout\n",
    "\n",
    "n_components = pca.n_components_\n",
    "\n",
    "model_cnn_pca = Sequential([\n",
    "    Input(shape=(n_components,)),\n",
    "    Dense(256, activation='relu'),\n",
    "    Dropout(0.5),\n",
    "    Dense(128, activation='relu'),\n",
    "    Dropout(0.5),\n",
    "    Dense(64, activation='relu'),\n",
    "    Dropout(0.5),\n",
    "    Dense(10, activation='softmax'),\n",
    "])\n",
    "\n",
    "# print(model_cnn.summary())\n",
    "\n",
    "model_cnn_pca.compile(\n",
    "    loss = losses.SparseCategoricalCrossentropy(from_logits = False),     \n",
    "    optimizer = optimizers.Adam(learning_rate=3e-4),                               \n",
    "    metrics =[\"accuracy\"],                                                       \n",
    ")\n",
    "\n",
    "history_cnn_pca = model_cnn_pca.fit(X_train_pca, y_train.flatten(), \n",
    "                            batch_size = 64, \n",
    "                            epochs = 20,\n",
    "                            verbose = 2,\n",
    "                            validation_data=(X_validate_pca, y_validate.flatten()))"
   ]
  },
  {
   "cell_type": "code",
   "execution_count": 14,
   "metadata": {},
   "outputs": [],
   "source": [
    "model_cnn_pca.save('../model/cnn_pca_tf213.keras')\n",
    "model_cnn_pca.save('model/cnn_pca_tf213.keras')"
   ]
  },
  {
   "cell_type": "markdown",
   "metadata": {},
   "source": [
    "### Evaluate accuracy & prediction time"
   ]
  },
  {
   "cell_type": "markdown",
   "metadata": {},
   "source": [
    "Load the model"
   ]
  },
  {
   "cell_type": "code",
   "execution_count": 17,
   "metadata": {},
   "outputs": [],
   "source": [
    "from tensorflow.keras.models import load_model\n",
    "\n",
    "cnn_model_path = 'model/cnn_tf213.keras'\n",
    "model_cnn = load_model(cnn_model_path)"
   ]
  },
  {
   "cell_type": "code",
   "execution_count": 18,
   "metadata": {},
   "outputs": [
    {
     "name": "stdout",
     "output_type": "stream",
     "text": [
      "313/313 [==============================] - 2s 6ms/step - loss: 0.8539 - accuracy: 0.7053\n",
      "Test Accuracy: 0.705\n",
      "4/4 [==============================] - 0s 6ms/step\n",
      "Total time to predict 100 samples: 0.16 seconds\n"
     ]
    }
   ],
   "source": [
    "# evaluate accuracy\n",
    "test_loss, test_accuracy = model_cnn.evaluate(X_test, y_test)\n",
    "print(f\"Test Accuracy: {round(test_accuracy, 3)}\")\n",
    "\n",
    "# evaluate training time\n",
    "evaluate_prediction_time(model_cnn, X_test)"
   ]
  },
  {
   "cell_type": "markdown",
   "metadata": {},
   "source": [
    "CNNs are superior for image classification due to their ability to learn high-level features directly from data, adapt to complex patterns, and perform efficiently in real-time applications, including on IoT devices. While PCA + SVM might still be used for less complex or highly specific tasks where training data is limited or when computational simplicity is prioritized, CNNs are the standard for most current image processing tasks. This difference is crucial in educational settings, emphasizing the need to train students on technologies that they are most likely to use in industry, particularly in cutting-edge fields like machine learning and computer vision."
   ]
  },
  {
   "cell_type": "markdown",
   "metadata": {},
   "source": [
    "### Hyperparameter tuning"
   ]
  },
  {
   "cell_type": "code",
   "execution_count": 10,
   "metadata": {},
   "outputs": [
    {
     "name": "stdout",
     "output_type": "stream",
     "text": [
      "Trial 30 Complete [00h 05m 13s]\n",
      "val_accuracy: 0.6797333359718323\n",
      "\n",
      "Best val_accuracy So Far: 0.7330666780471802\n",
      "Total elapsed time: 07h 32m 57s\n",
      "\n",
      "The best model uses 64 filters in the first Conv layer,\n",
      "a kernel size of 3, and 128 units in the dense layer,\n",
      "with a learning rate of 0.001.\n",
      "\n"
     ]
    }
   ],
   "source": [
    "import tensorflow as tf\n",
    "from tensorflow import keras\n",
    "from tensorflow.keras.layers import Input, Conv2D, MaxPooling2D, Flatten, Dense, Dropout\n",
    "from kerastuner.tuners import RandomSearch\n",
    "\n",
    "def build_model(hp):\n",
    "    model = keras.Sequential([\n",
    "        Input(shape=(32, 32, 3)),\n",
    "        Conv2D(filters=hp.Int('conv_1_filter', min_value=32, max_value=64, step=16),\n",
    "               kernel_size=hp.Choice('conv_1_kernel', values=[3, 5]),\n",
    "               padding=hp.Choice('conv_1_padding', values=['same', 'valid']),\n",
    "               activation='relu'),\n",
    "        MaxPooling2D(pool_size=(2, 2)),\n",
    "        Dropout(rate=hp.Float('dropout_1', min_value=0.1, max_value=0.3, step=0.05)),\n",
    "\n",
    "        Conv2D(filters=hp.Int('conv_2_filter', min_value=64, max_value=128, step=32),\n",
    "               kernel_size=hp.Choice('conv_2_kernel', values=[3, 5]),\n",
    "               padding=hp.Choice('conv_2_padding', values=['same', 'valid']),\n",
    "               activation='relu'),\n",
    "        MaxPooling2D(pool_size=(2, 2)),\n",
    "        Dropout(rate=hp.Float('dropout_2', min_value=0.2, max_value=0.4, step=0.05)),\n",
    "\n",
    "        Flatten(),\n",
    "        Dense(units=hp.Int('dense_units', min_value=64, max_value=128, step=32),\n",
    "              activation='relu'),\n",
    "        Dropout(rate=hp.Float('dropout_3', min_value=0.3, max_value=0.5, step=0.05)),\n",
    "        Dense(10, activation='softmax')\n",
    "    ])\n",
    "    \n",
    "    model.compile(\n",
    "        optimizer=keras.optimizers.Adam(hp.Choice('learning_rate', values=[1e-3, 1e-4])),\n",
    "        loss='sparse_categorical_crossentropy',\n",
    "        metrics=['accuracy']\n",
    "    )\n",
    "    return model\n",
    "\n",
    "tuner = RandomSearch(\n",
    "    build_model,\n",
    "    objective='val_accuracy',\n",
    "    max_trials=30,  # Increased number of trials for finer exploration\n",
    "    executions_per_trial=1,\n",
    "    directory='ml_result/hp_tuning',\n",
    "    project_name='hparam_tuning'\n",
    ")\n",
    "\n",
    "tuner.search(x=X_train, y=y_train, epochs=10, validation_data=(X_validate, y_validate))\n",
    "\n",
    "# Get the optimal hyperparameters\n",
    "best_hps = tuner.get_best_hyperparameters(num_trials=1)[0]\n",
    "\n",
    "print(f\"\"\"\n",
    "The best model uses {best_hps.get('conv_1_filter')} filters in the first Conv layer,\n",
    "a kernel size of {best_hps.get('conv_1_kernel')}, and {best_hps.get('dense_units')} units in the dense layer,\n",
    "with a learning rate of {best_hps.get('learning_rate')}.\n",
    "\"\"\")\n",
    "\n",
    "# Retrieve the best model.\n",
    "best_model = tuner.get_best_models(num_models=1)[0]\n",
    "\n",
    "# Evaluate the best model\n",
    "# loss, accuracy = best_model.evaluate(X_test, y_test)\n",
    "# print(f'Test accuracy: {accuracy}, Test loss: {loss}')\n"
   ]
  },
  {
   "cell_type": "code",
   "execution_count": 22,
   "metadata": {},
   "outputs": [
    {
     "name": "stdout",
     "output_type": "stream",
     "text": [
      "conv_1_filter: 64\n",
      "conv_1_kernel: 3\n",
      "conv_2_filter: 128\n",
      "conv_2_kernel: 3\n",
      "dense_units: 128\n",
      "learning_rate: 0.001\n",
      "conv_1_padding: same\n",
      "dropout_1: 0.15000000000000002\n",
      "conv_2_padding: valid\n",
      "dropout_2: 0.25\n",
      "dropout_3: 0.3\n"
     ]
    }
   ],
   "source": [
    "for hparam in best_hps.space:\n",
    "    print(f\"{hparam.name}: {best_hps.get(hparam.name)}\")"
   ]
  },
  {
   "cell_type": "code",
   "execution_count": 11,
   "metadata": {},
   "outputs": [
    {
     "name": "stdout",
     "output_type": "stream",
     "text": [
      "Epoch 1/20\n",
      "665/665 - 56s - loss: 0.6838 - accuracy: 0.7561 - val_loss: 0.7694 - val_accuracy: 0.7340 - 56s/epoch - 84ms/step\n",
      "Epoch 2/20\n",
      "665/665 - 55s - loss: 0.6743 - accuracy: 0.7596 - val_loss: 0.7660 - val_accuracy: 0.7355 - 55s/epoch - 83ms/step\n",
      "Epoch 3/20\n",
      "665/665 - 55s - loss: 0.6505 - accuracy: 0.7673 - val_loss: 0.7614 - val_accuracy: 0.7389 - 55s/epoch - 83ms/step\n",
      "Epoch 4/20\n",
      "665/665 - 58s - loss: 0.6347 - accuracy: 0.7730 - val_loss: 0.7773 - val_accuracy: 0.7335 - 58s/epoch - 87ms/step\n",
      "Epoch 5/20\n",
      "665/665 - 58s - loss: 0.6160 - accuracy: 0.7779 - val_loss: 0.7608 - val_accuracy: 0.7392 - 58s/epoch - 88ms/step\n",
      "Epoch 6/20\n",
      "665/665 - 55s - loss: 0.6013 - accuracy: 0.7841 - val_loss: 0.7682 - val_accuracy: 0.7384 - 55s/epoch - 83ms/step\n",
      "Epoch 7/20\n",
      "665/665 - 57s - loss: 0.5919 - accuracy: 0.7854 - val_loss: 0.7645 - val_accuracy: 0.7371 - 57s/epoch - 85ms/step\n",
      "Epoch 8/20\n",
      "665/665 - 57s - loss: 0.5743 - accuracy: 0.7924 - val_loss: 0.7932 - val_accuracy: 0.7381 - 57s/epoch - 86ms/step\n",
      "Epoch 9/20\n",
      "665/665 - 55s - loss: 0.5595 - accuracy: 0.7990 - val_loss: 0.7694 - val_accuracy: 0.7429 - 55s/epoch - 82ms/step\n",
      "Epoch 10/20\n",
      "665/665 - 55s - loss: 0.5475 - accuracy: 0.8022 - val_loss: 0.7685 - val_accuracy: 0.7440 - 55s/epoch - 83ms/step\n",
      "Epoch 11/20\n",
      "665/665 - 57s - loss: 0.5380 - accuracy: 0.8049 - val_loss: 0.8003 - val_accuracy: 0.7375 - 57s/epoch - 86ms/step\n",
      "Epoch 12/20\n",
      "665/665 - 55s - loss: 0.5209 - accuracy: 0.8115 - val_loss: 0.7797 - val_accuracy: 0.7471 - 55s/epoch - 82ms/step\n",
      "Epoch 13/20\n",
      "665/665 - 56s - loss: 0.5143 - accuracy: 0.8151 - val_loss: 0.7957 - val_accuracy: 0.7413 - 56s/epoch - 84ms/step\n",
      "Epoch 14/20\n",
      "665/665 - 61s - loss: 0.5049 - accuracy: 0.8168 - val_loss: 0.7952 - val_accuracy: 0.7427 - 61s/epoch - 91ms/step\n",
      "Epoch 15/20\n",
      "665/665 - 56s - loss: 0.4855 - accuracy: 0.8235 - val_loss: 0.8026 - val_accuracy: 0.7417 - 56s/epoch - 85ms/step\n",
      "Epoch 16/20\n",
      "665/665 - 53s - loss: 0.4886 - accuracy: 0.8229 - val_loss: 0.7864 - val_accuracy: 0.7413 - 53s/epoch - 80ms/step\n",
      "Epoch 17/20\n",
      "665/665 - 60s - loss: 0.4767 - accuracy: 0.8270 - val_loss: 0.7850 - val_accuracy: 0.7465 - 60s/epoch - 90ms/step\n",
      "Epoch 18/20\n",
      "665/665 - 56s - loss: 0.4723 - accuracy: 0.8269 - val_loss: 0.7916 - val_accuracy: 0.7500 - 56s/epoch - 84ms/step\n",
      "Epoch 19/20\n",
      "665/665 - 53s - loss: 0.4576 - accuracy: 0.8319 - val_loss: 0.8068 - val_accuracy: 0.7459 - 53s/epoch - 80ms/step\n",
      "Epoch 20/20\n",
      "665/665 - 57s - loss: 0.4527 - accuracy: 0.8358 - val_loss: 0.8062 - val_accuracy: 0.7449 - 57s/epoch - 85ms/step\n"
     ]
    },
    {
     "data": {
      "image/png": "[encoded data removed]",
      "text/plain": [
       "<Figure size 1200x500 with 2 Axes>"
      ]
     },
     "metadata": {},
     "output_type": "display_data"
    },
    {
     "data": {
      "image/png": "[encoded data removed]",
      "text/plain": [
       "<Figure size 1200x500 with 2 Axes>"
      ]
     },
     "execution_count": 11,
     "metadata": {},
     "output_type": "execute_result"
    }
   ],
   "source": [
    "history_best_model = best_model.fit(\n",
    "    X_train, y_train,\n",
    "    epochs=20,  # You can adjust the number of epochs based on your requirement\n",
    "    batch_size=64,\n",
    "    verbose=2,\n",
    "    validation_data=(X_validate, y_validate)\n",
    ")\n",
    "\n",
    "plot_losses(history_best_model)"
   ]
  },
  {
   "cell_type": "code",
   "execution_count": 15,
   "metadata": {},
   "outputs": [],
   "source": [
    "best_model.save('../model/cnn_tuned_tf213.keras')\n",
    "best_model.save('model/cnn_tuned_tf213.keras')"
   ]
  },
  {
   "cell_type": "code",
   "execution_count": 14,
   "metadata": {},
   "outputs": [
    {
     "name": "stdout",
     "output_type": "stream",
     "text": [
      "313/313 [==============================] - 3s 11ms/step - loss: 0.8266 - accuracy: 0.7360\n",
      "Test Accuracy: 0.736\n",
      "4/4 [==============================] - 0s 10ms/step\n",
      "Total time to predict 100 samples: 0.25 seconds\n"
     ]
    }
   ],
   "source": [
    "# evaluate accuracy\n",
    "test_loss, test_accuracy = best_model.evaluate(X_test, y_test)\n",
    "print(f\"Test Accuracy: {round(test_accuracy, 3)}\")\n",
    "\n",
    "# evaluate training time\n",
    "evaluate_prediction_time(best_model, X_test)"
   ]
  }
 ],
 "metadata": {
  "kernelspec": {
   "display_name": ".venv",
   "language": "python",
   "name": "python3"
  },
  "language_info": {
   "codemirror_mode": {
    "name": "ipython",
    "version": 3
   },
   "file_extension": ".py",
   "mimetype": "text/x-python",
   "name": "python",
   "nbconvert_exporter": "python",
   "pygments_lexer": "ipython3",
   "version": "3.10.15"
  }
 },
 "nbformat": 4,
 "nbformat_minor": 2
}
